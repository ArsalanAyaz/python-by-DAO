{
 "cells": [
  {
   "cell_type": "code",
   "execution_count": null,
   "metadata": {},
   "outputs": [],
   "source": [
    "name:str=\"ali\"\n",
    "age:int = 5\n",
    "class_:str = \"seven\"\n",
    "\n",
    "print(f\"\"\"\n",
    "     \n",
    "     name : {name} \n",
    "     age  : {age}\n",
    "     calss: {class_}\n",
    "      \n",
    "      \"\"\")"
   ]
  },
  {
   "cell_type": "markdown",
   "metadata": {},
   "source": [
    ".format() method"
   ]
  },
  {
   "cell_type": "code",
   "execution_count": null,
   "metadata": {},
   "outputs": [],
   "source": [
    "name:str=\"ali\"\n",
    "age:int = 5\n",
    "class_:str = \"seven\"\n",
    "\n",
    "card:str = \"\"\"\n",
    "     \n",
    "     name : {} \n",
    "     age  : {}\n",
    "     calss: {}\n",
    "      \n",
    "      \"\"\".format(name, age, class_)\n",
    "#index number     0     1      2\n",
    "      \n",
    "print(card)      "
   ]
  },
  {
   "cell_type": "code",
   "execution_count": null,
   "metadata": {},
   "outputs": [],
   "source": [
    "# # in format() method we can call the variables with index number and also by changing the \n",
    "# index numbers\n",
    "\n",
    "name:str=\"ali\"\n",
    "age:int = 5\n",
    "class_:str = \"seven\"\n",
    "\n",
    "card:str = \"\"\"\n",
    "     \n",
    "     name : {0} \n",
    "     age  : {2}\n",
    "     calss: {1}\n",
    "      \n",
    "      \"\"\".format(name, class_, age)\n",
    "#index number     0     1       2\n",
    "      \n",
    "print(card)     "
   ]
  }
 ],
 "metadata": {
  "kernelspec": {
   "display_name": "python12",
   "language": "python",
   "name": "python3"
  },
  "language_info": {
   "codemirror_mode": {
    "name": "ipython",
    "version": 3
   },
   "file_extension": ".py",
   "mimetype": "text/x-python",
   "name": "python",
   "nbconvert_exporter": "python",
   "pygments_lexer": "ipython3",
   "version": "3.12.1"
  }
 },
 "nbformat": 4,
 "nbformat_minor": 2
}
